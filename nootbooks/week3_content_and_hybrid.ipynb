{
 "cells": [
  {
   "cell_type": "markdown",
   "id": "091fb8c4",
   "metadata": {},
   "source": [
    "Content-Based & Hybrid Recommendation"
   ]
  },
  {
   "cell_type": "code",
   "execution_count": 1,
   "id": "d36f8ef7",
   "metadata": {},
   "outputs": [],
   "source": [
    "import os\n",
    "import random\n",
    "import joblib\n",
    "import numpy as np\n",
    "import pandas as pd\n",
    "from collections import defaultdict\n",
    "from surprise import SVD, Dataset, Reader\n",
    "from sklearn.feature_extraction.text import TfidfVectorizer\n",
    "from sklearn.metrics.pairwise import linear_kernel\n",
    "from scipy import sparse"
   ]
  },
  {
   "cell_type": "code",
   "execution_count": null,
   "id": "733ff491",
   "metadata": {},
   "outputs": [],
   "source": [
    "# Fix Random Seeds for Determinism \n",
    "random.seed(42)\n",
    "np.random.seed(42)"
   ]
  },
  {
   "cell_type": "code",
   "execution_count": null,
   "id": "2bcdc15c",
   "metadata": {},
   "outputs": [],
   "source": [
    "# Paths \n",
    "path = \"../data\"\n",
    "movies = pd.read_csv(f\"{path}/processed/movies.csv\")\n",
    "ratings = pd.read_csv(f\"{path}/processed/ratings.csv\")"
   ]
  },
  {
   "cell_type": "code",
   "execution_count": null,
   "id": "6bcc843d",
   "metadata": {},
   "outputs": [],
   "source": [
    "# Ensure movieId and userId dtypes are consistent\n",
    "movies['movieId'] = movies['movieId'].astype(int)\n",
    "ratings['movieId'] = ratings['movieId'].astype(int)\n",
    "ratings['userId'] = ratings['userId'].astype(int)"
   ]
  },
  {
   "cell_type": "code",
   "execution_count": null,
   "id": "f0290dbd",
   "metadata": {},
   "outputs": [],
   "source": [
    "# Content-Based Recommendation \n",
    "genre_cols = [\"unknown\", \"Action\", \"Adventure\", \"Animation\", \"Children's\", \"Comedy\",\n",
    "              \"Crime\", \"Documentary\", \"Drama\", \"Fantasy\", \"Film-Noir\", \"Horror\",\n",
    "              \"Musical\", \"Mystery\", \"Romance\", \"Sci-Fi\", \"Thriller\", \"War\", \"Western\"]\n",
    "\n",
    "# defensive: if any genre_cols missing, create them with 0\n",
    "for g in genre_cols:\n",
    "    if g not in movies.columns:\n",
    "        movies[g] = 0\n",
    "\n",
    "# Combine title + genres into a content string\n",
    "movies['genre_str'] = movies[genre_cols].apply(\n",
    "    lambda x: ' '.join([g.replace(\"'\", \"\") for g,val in zip(genre_cols, x) if int(val) == 1]), axis=1\n",
    ")\n",
    "movies['content'] = movies['title'].fillna('') + \" \" + movies['genre_str']"
   ]
  },
  {
   "cell_type": "code",
   "execution_count": null,
   "id": "351c42a5",
   "metadata": {},
   "outputs": [],
   "source": [
    "# TF-IDF vectorization\n",
    "tfidf = TfidfVectorizer(stop_words='english')\n",
    "tfidf_matrix = tfidf.fit_transform(movies['content'])   # sparse matrix (n_movies, n_features)\n",
    "\n",
    "# Compute cosine similarity \n",
    "cosine_sim = linear_kernel(tfidf_matrix, tfidf_matrix)  # shape (n_movies, n_movies)\n",
    "\n"
   ]
  },
  {
   "cell_type": "code",
   "execution_count": 7,
   "id": "e042fd71",
   "metadata": {},
   "outputs": [],
   "source": [
    "# Mapping: movieId -> index (int -> int)\n",
    "movie_idx_map = pd.Series(movies.index, index=movies['movieId']).to_dict()\n",
    "# and reverse map:\n",
    "idx_movie_map = pd.Series(movies['movieId'].values, index=movies.index).to_dict()\n",
    "\n",
    "def recommend_content(movie_id, top_n=10):\n",
    "    \"\"\"\n",
    "    Return top_n similar movies by TF-IDF cosine similarity.\n",
    "    Safe: returns empty DataFrame if movie_id missing.\n",
    "    Deterministic: sorts by (-score, index).\n",
    "    \"\"\"\n",
    "    if movie_id not in movie_idx_map:\n",
    "        print(f\"[warn] movie_id {movie_id} not found in movie_idx_map\")\n",
    "        return pd.DataFrame(columns=['title','year'])\n",
    "    idx = movie_idx_map[movie_id]\n",
    "    sim_scores = list(enumerate(cosine_sim[idx]))\n",
    "    # sort by similarity desc then index asc to be deterministic\n",
    "    sim_scores = sorted(sim_scores, key=lambda x: (-x[1], x[0]))[1:top_n+1]\n",
    "    movie_indices = [i[0] for i in sim_scores]\n",
    "    return movies.iloc[movie_indices][['title', 'year']].reset_index(drop=True)"
   ]
  },
  {
   "cell_type": "code",
   "execution_count": null,
   "id": "a2399172",
   "metadata": {},
   "outputs": [
    {
     "data": {
      "text/plain": [
       "<surprise.prediction_algorithms.matrix_factorization.SVD at 0x1d994aab210>"
      ]
     },
     "execution_count": 8,
     "metadata": {},
     "output_type": "execute_result"
    }
   ],
   "source": [
    "# Collaborative Filtering (SVD)\n",
    "reader = Reader(rating_scale=(1,5))\n",
    "data = Dataset.load_from_df(ratings[['userId','movieId','rating']], reader)\n",
    "trainset = data.build_full_trainset()\n",
    "\n",
    "# SVD deterministic with random_state\n",
    "svd_model = SVD(random_state=42, n_factors=100, n_epochs=20, verbose=False)\n",
    "svd_model.fit(trainset)"
   ]
  },
  {
   "cell_type": "code",
   "execution_count": null,
   "id": "1f159eea",
   "metadata": {},
   "outputs": [],
   "source": [
    "# Hybrid Recommendation (vectorized similarity) \n",
    "# Precompute a matrix view for quick index lookups\n",
    "# For vectorized similarity we will use numpy indexing\n",
    "cosine_sim_np = np.asarray(cosine_sim)\n",
    "\n",
    "def hybrid_recommend(user_id, top_n=10, alpha=0.7, top_k_cf=50):\n",
    "    \"\"\"\n",
    "    Hybrid: alpha * CF_pred + (1-alpha) * content_similarity_scaled\n",
    "    - If user has no ratings, fallback to top CF predictions\n",
    "    - Vectorized similarity calculation for speed\n",
    "    \"\"\"\n",
    "    # rated movies by user\n",
    "    rated_movies = ratings[ratings['userId'] == user_id]['movieId'].tolist()\n",
    "    # all candidate movieIds (unrated)\n",
    "    all_movie_ids = movies['movieId'].tolist()\n",
    "    unrated_mask = np.isin(all_movie_ids, rated_movies, invert=True)\n",
    "    candidate_ids = np.array(all_movie_ids)[unrated_mask]\n",
    "\n",
    "    # If no candidates (user rated everything) -> return empty\n",
    "    if len(candidate_ids) == 0:\n",
    "        return pd.DataFrame(columns=['title','year'])\n",
    "\n",
    "    # CF predictions for candidates\n",
    "    cf_preds = []\n",
    "    for mid in candidate_ids:\n",
    "        pred = svd_model.predict(user_id, int(mid)).est\n",
    "        cf_preds.append(pred)\n",
    "    cf_preds = np.array(cf_preds)\n",
    "\n",
    "    # take top_k_cf by CF score (deterministic tie-break by movieId)\n",
    "    candidate_with_preds = list(zip(candidate_ids.astype(int), cf_preds))\n",
    "    candidate_with_preds.sort(key=lambda x: (-x[1], int(x[0])))\n",
    "    top_collab = candidate_with_preds[:top_k_cf]\n",
    "\n",
    "    top_ids = np.array([m for m,_ in top_collab], dtype=int)\n",
    "    top_cf_scores = np.array([s for _,s in top_collab], dtype=float)\n",
    "\n",
    "    # compute content similarity score vectorized\n",
    "    if len(rated_movies) == 0:\n",
    "        sim_scores = np.zeros(len(top_ids), dtype=float)\n",
    "    else:\n",
    "        # get indices in cosine_sim for top_ids and rated_movies\n",
    "        top_idx = np.array([movie_idx_map[mid] for mid in top_ids], dtype=int)\n",
    "        rated_idx = np.array([movie_idx_map[mid] for mid in rated_movies if mid in movie_idx_map], dtype=int)\n",
    "        if rated_idx.size == 0:\n",
    "            sim_scores = np.zeros(len(top_idx), dtype=float)\n",
    "        else:\n",
    "            # For each top movie, average similarity to all rated movies\n",
    "            sims_to_rated = cosine_sim_np[top_idx][:, rated_idx]   \n",
    "            sim_scores = sims_to_rated.mean(axis=1)               # average similarity\n",
    "\n",
    "    # Rescale sim_scores (0..1) to rating scale (0..5) to mix with CF ratings\n",
    "    sim_scores_scaled = sim_scores * 5.0\n",
    "\n",
    "    # hybrid score\n",
    "    hybrid_scores = alpha * top_cf_scores + (1 - alpha) * sim_scores_scaled\n",
    "\n",
    "    # prepare deterministic sorting (score desc, movieId asc)\n",
    "    movie_and_score = list(zip(top_ids.astype(int), hybrid_scores))\n",
    "    movie_and_score.sort(key=lambda x: (-x[1], int(x[0])))\n",
    "\n",
    "    top_movies = [m for m,_ in movie_and_score[:top_n]]\n",
    "    return movies[movies['movieId'].isin(top_movies)][['title','year']].reset_index(drop=True)"
   ]
  },
  {
   "cell_type": "code",
   "execution_count": null,
   "id": "6e79c6ef",
   "metadata": {},
   "outputs": [
    {
     "name": "stdout",
     "output_type": "stream",
     "text": [
      "🎬 Content-Based Recommendations for 'Toy Story (1995)':\n",
      "                               title  year\n",
      "0  Pyromaniac's Love Story, A (1995)  1995\n",
      "1                       Balto (1995)  1995\n",
      "2              Goofy Movie, A (1995)  1995\n",
      "3  NeverEnding Story III, The (1994)  1994\n",
      "4                  Pocahontas (1995)  1995\n",
      "5     FairyTale: A True Story (1997)  1997\n",
      "6     Philadelphia Story, The (1940)  1940\n",
      "7       Story of Xinghua, The (1993)  1993\n",
      "8            Gumby: The Movie (1995)  1995\n",
      "9                     Aladdin (1992)  1992\n"
     ]
    }
   ],
   "source": [
    "print(\"Content-Based Recommendations for 'Toy Story (1995)':\")\n",
    "print(recommend_content(1, top_n=10))"
   ]
  },
  {
   "cell_type": "code",
   "execution_count": 11,
   "id": "b3543c39",
   "metadata": {},
   "outputs": [
    {
     "name": "stdout",
     "output_type": "stream",
     "text": [
      "🤝 Hybrid Recommendations for User 19:\n",
      "                                               title  year\n",
      "0                                12 Angry Men (1957)  1957\n",
      "1                              Close Shave, A (1995)  1995\n",
      "2  Dr. Strangelove or: How I Learned to Stop Worr...  1963\n",
      "3                                  Casablanca (1942)  1942\n",
      "4                                 Brassed Off (1996)  1996\n"
     ]
    }
   ],
   "source": [
    "user_id_example = 19\n",
    "print(f\"🤝 Hybrid Recommendations for User {user_id_example}:\")\n",
    "print(hybrid_recommend(user_id=user_example if (user_example:=user_id_example) else user_id_example, top_n=5, alpha=0.7))\n"
   ]
  },
  {
   "cell_type": "code",
   "execution_count": null,
   "id": "011e7663",
   "metadata": {},
   "outputs": [
    {
     "name": "stdout",
     "output_type": "stream",
     "text": [
      "Models saved successfully in '../models' folder.\n"
     ]
    }
   ],
   "source": [
    "# Save Models\n",
    "os.makedirs(\"../models\", exist_ok=True)\n",
    "joblib.dump(svd_model, \"../models/svd_model.pkl\")\n",
    "joblib.dump(tfidf, \"../models/tfidf_vectorizer.pkl\")\n",
    "# Save sparse TF-IDF matrix with scipy\n",
    "sparse.save_npz(\"../models/tfidf_matrix.npz\", tfidf_matrix)\n",
    "joblib.dump(movie_idx_map, \"../models/movie_idx_map.pkl\")\n",
    "\n",
    "print(\"Models saved successfully in '../models' folder.\")"
   ]
  }
 ],
 "metadata": {
  "kernelspec": {
   "display_name": "Python 3",
   "language": "python",
   "name": "python3"
  },
  "language_info": {
   "codemirror_mode": {
    "name": "ipython",
    "version": 3
   },
   "file_extension": ".py",
   "mimetype": "text/x-python",
   "name": "python",
   "nbconvert_exporter": "python",
   "pygments_lexer": "ipython3",
   "version": "3.11.2"
  }
 },
 "nbformat": 4,
 "nbformat_minor": 5
}
