{
 "cells": [
  {
   "cell_type": "code",
   "execution_count": 20,
   "id": "36bbc3ac",
   "metadata": {},
   "outputs": [],
   "source": [
    "import pandas as pd\n",
    "import numpy as np\n",
    "import random\n",
    "from surprise import Dataset, Reader, SVD, NMF, KNNBasic\n",
    "from surprise.model_selection import train_test_split\n",
    "from surprise import accuracy\n",
    "from collections import defaultdict\n",
    "import matplotlib.pyplot as plt\n",
    "import seaborn as sns"
   ]
  },
  {
   "cell_type": "code",
   "execution_count": null,
   "id": "f97a52c2",
   "metadata": {},
   "outputs": [],
   "source": [
    "path = \"../data\"\n",
    "ratings = pd.read_csv(f\"{path}/processed/ratings.csv\")\n",
    "movies  = pd.read_csv(f\"{path}/processed/movies.csv\")\n"
   ]
  },
  {
   "cell_type": "code",
   "execution_count": 25,
   "id": "d1ce6ada",
   "metadata": {},
   "outputs": [
    {
     "name": "stdout",
     "output_type": "stream",
     "text": [
      "Train set size: 79429\n",
      "Test set size: 19858\n"
     ]
    }
   ],
   "source": [
    "#Train-Test Split (Random 80/20)\n",
    "\n",
    "reader = Reader(rating_scale=(1,5))\n",
    "data = Dataset.load_from_df(ratings[['userId','movieId','rating']], reader)\n",
    "trainset, testset = train_test_split(data, test_size=0.2, random_state=42)\n",
    "print(\"Train set size:\", trainset.n_ratings)\n",
    "print(\"Test set size:\", len(testset))"
   ]
  },
  {
   "cell_type": "code",
   "execution_count": 4,
   "id": "b05eb462",
   "metadata": {},
   "outputs": [
    {
     "name": "stdout",
     "output_type": "stream",
     "text": [
      "🎲 Random Recommender Example:\n",
      "['Butch Cassidy and the Sundance Kid (1969)', 'Two or Three Things I Know About Her (1966)', 'Body Snatcher, The (1945)', 'Vampire in Brooklyn (1995)', 'Men of Means (1998)']\n",
      "\n",
      "⭐ Popularity Recommender Example:\n",
      "['Pather Panchali (1955)', 'Close Shave, A (1995)', \"Schindler's List (1993)\", 'Wrong Trousers, The (1993)', 'Casablanca (1942)']\n"
     ]
    }
   ],
   "source": [
    "# Random Recommender\n",
    "def random_recommender(movies, n=5):\n",
    "    return movies.sample(n)['title'].tolist()\n",
    "\n",
    "print(\"🎲 Random Recommender Example:\")\n",
    "print(random_recommender(movies, n=5))\n",
    "\n",
    "# Popularity Recommender (average rating)\n",
    "movie_popularity = ratings.groupby('movieId')['rating'].mean().reset_index()\n",
    "movie_popularity = movie_popularity.merge(movies[['movieId', 'title']], on='movieId')\n",
    "movie_popularity = movie_popularity.sort_values(by='rating', ascending=False)\n",
    "\n",
    "def popularity_recommender(movie_popularity, n=5):\n",
    "    return movie_popularity.head(n)['title'].tolist()\n",
    "\n",
    "print(\"\\n⭐ Popularity Recommender Example:\")\n",
    "print(popularity_recommender(movie_popularity, n=5))"
   ]
  },
  {
   "cell_type": "code",
   "execution_count": 5,
   "id": "d8a9488f",
   "metadata": {},
   "outputs": [
    {
     "name": "stdout",
     "output_type": "stream",
     "text": [
      "RMSE: 1.8814\n",
      "MAE:  1.5067\n"
     ]
    }
   ],
   "source": [
    "#Random Recommender Predictions for RMSE/MAE\n",
    "\n",
    "pred_random = [(uid, iid, true_r, np.random.randint(1,6), None) for (uid, iid, true_r) in testset]\n",
    "rmse_random = accuracy.rmse(pred_random)\n",
    "mae_random  = accuracy.mae(pred_random)"
   ]
  },
  {
   "cell_type": "code",
   "execution_count": 6,
   "id": "f5c4b7bd",
   "metadata": {},
   "outputs": [
    {
     "name": "stdout",
     "output_type": "stream",
     "text": [
      "RMSE: 0.9945\n",
      "MAE:  0.7936\n"
     ]
    }
   ],
   "source": [
    "#Popularity Predictions for RMSE/MAE\n",
    "\n",
    "movie_avg = ratings.groupby('movieId')['rating'].mean().to_dict()\n",
    "pred_popular = [(uid, iid, true_r, movie_avg.get(iid, 3.0), None) for (uid, iid, true_r) in testset]\n",
    "rmse_pop = accuracy.rmse(pred_popular)\n",
    "mae_pop  = accuracy.mae(pred_popular)"
   ]
  },
  {
   "cell_type": "markdown",
   "id": "88352204",
   "metadata": {},
   "source": [
    "## Collaborative Filtering Models (User/Item KNN)"
   ]
  },
  {
   "cell_type": "code",
   "execution_count": 7,
   "id": "278bbe8a",
   "metadata": {},
   "outputs": [
    {
     "name": "stdout",
     "output_type": "stream",
     "text": [
      "\n",
      "🔹 User-User KNN Cross-Validation:\n",
      "Computing the msd similarity matrix...\n",
      "Done computing similarity matrix.\n",
      "Computing the msd similarity matrix...\n",
      "Done computing similarity matrix.\n",
      "Computing the msd similarity matrix...\n",
      "Done computing similarity matrix.\n",
      "Evaluating RMSE, MAE of algorithm KNNBasic on 3 split(s).\n",
      "\n",
      "                  Fold 1  Fold 2  Fold 3  Mean    Std     \n",
      "RMSE (testset)    0.9798  0.9846  0.9809  0.9817  0.0020  \n",
      "MAE (testset)     0.7740  0.7793  0.7774  0.7769  0.0022  \n",
      "Fit time          0.48    0.48    0.45    0.47    0.02    \n",
      "Test time         5.13    5.97    4.65    5.25    0.54    \n"
     ]
    },
    {
     "data": {
      "text/plain": [
       "{'test_rmse': array([0.97981023, 0.98457269, 0.9808652 ]),\n",
       " 'test_mae': array([0.77396657, 0.77926568, 0.77735329]),\n",
       " 'fit_time': (0.48157787322998047, 0.48326802253723145, 0.44827985763549805),\n",
       " 'test_time': (5.125553369522095, 5.965489625930786, 4.649183034896851)}"
      ]
     },
     "execution_count": 7,
     "metadata": {},
     "output_type": "execute_result"
    }
   ],
   "source": [
    "from surprise import KNNBasic\n",
    "from surprise.model_selection import cross_validate\n",
    "\n",
    "# User-User KNN\n",
    "user_knn = KNNBasic(sim_options={'user_based': True})\n",
    "print(\"\\n🔹 User-User KNN Cross-Validation:\")\n",
    "cross_validate(user_knn, data, measures=['RMSE','MAE'], cv=3, verbose=True)\n"
   ]
  },
  {
   "cell_type": "code",
   "execution_count": 8,
   "id": "29f92144",
   "metadata": {},
   "outputs": [
    {
     "name": "stdout",
     "output_type": "stream",
     "text": [
      "Computing the msd similarity matrix...\n",
      "Done computing similarity matrix.\n",
      "Computing the msd similarity matrix...\n",
      "Done computing similarity matrix.\n",
      "Computing the msd similarity matrix...\n",
      "Done computing similarity matrix.\n",
      "Evaluating RMSE, MAE of algorithm KNNBasic on 3 split(s).\n",
      "\n",
      "                  Fold 1  Fold 2  Fold 3  Mean    Std     \n",
      "RMSE (testset)    0.9816  0.9797  0.9813  0.9809  0.0008  \n",
      "MAE (testset)     0.7757  0.7767  0.7777  0.7767  0.0008  \n",
      "Fit time          0.43    0.45    0.72    0.53    0.13    \n",
      "Test time         4.53    5.10    7.09    5.57    1.09    \n"
     ]
    }
   ],
   "source": [
    "user_knn = KNNBasic(sim_options={'user_based': True})\n",
    "cv_user = cross_validate(user_knn, data, measures=['RMSE','MAE'], cv=3, verbose=True)\n",
    "\n",
    "rmse_user = np.mean(cv_user['test_rmse'])\n",
    "mae_user  = np.mean(cv_user['test_mae'])\n"
   ]
  },
  {
   "cell_type": "code",
   "execution_count": 9,
   "id": "cfb80539",
   "metadata": {},
   "outputs": [
    {
     "name": "stdout",
     "output_type": "stream",
     "text": [
      "\n",
      "User-KNN CV -> RMSE: 0.9809, MAE: 0.7767\n"
     ]
    }
   ],
   "source": [
    "print(f\"\\nUser-KNN CV -> RMSE: {rmse_user:.4f}, MAE: {mae_user:.4f}\")"
   ]
  },
  {
   "cell_type": "code",
   "execution_count": 10,
   "id": "863303ee",
   "metadata": {},
   "outputs": [
    {
     "name": "stdout",
     "output_type": "stream",
     "text": [
      "Computing the msd similarity matrix...\n",
      "Done computing similarity matrix.\n",
      "Computing the msd similarity matrix...\n",
      "Done computing similarity matrix.\n",
      "Computing the msd similarity matrix...\n",
      "Done computing similarity matrix.\n",
      "Evaluating RMSE, MAE of algorithm KNNBasic on 3 split(s).\n",
      "\n",
      "                  Fold 1  Fold 2  Fold 3  Mean    Std     \n",
      "RMSE (testset)    0.9819  0.9765  0.9885  0.9823  0.0049  \n",
      "MAE (testset)     0.7778  0.7740  0.7838  0.7786  0.0040  \n",
      "Fit time          0.57    0.61    0.56    0.58    0.02    \n",
      "Test time         5.01    5.38    5.29    5.23    0.16    \n"
     ]
    }
   ],
   "source": [
    "# Item-Item KNN CV\n",
    "# ---------------------------\n",
    "item_knn = KNNBasic(sim_options={'user_based': False})\n",
    "cv_item = cross_validate(item_knn, data, measures=['RMSE','MAE'], cv=3, verbose=True)\n",
    "\n",
    "rmse_item = np.mean(cv_item['test_rmse'])\n",
    "mae_item  = np.mean(cv_item['test_mae'])"
   ]
  },
  {
   "cell_type": "code",
   "execution_count": 11,
   "id": "831fd5ee",
   "metadata": {},
   "outputs": [
    {
     "name": "stdout",
     "output_type": "stream",
     "text": [
      "Item-KNN CV -> RMSE: 0.9823, MAE: 0.7786\n"
     ]
    }
   ],
   "source": [
    "\n",
    "print(f\"Item-KNN CV -> RMSE: {rmse_item:.4f}, MAE: {mae_item:.4f}\")"
   ]
  },
  {
   "cell_type": "markdown",
   "id": "1882c799",
   "metadata": {},
   "source": [
    "## Matrix Factorization Models"
   ]
  },
  {
   "cell_type": "code",
   "execution_count": 12,
   "id": "154becd4",
   "metadata": {},
   "outputs": [
    {
     "name": "stdout",
     "output_type": "stream",
     "text": [
      "RMSE: 0.9271\n",
      "MAE:  0.7322\n"
     ]
    }
   ],
   "source": [
    "#svd\n",
    "svd_model = SVD()\n",
    "svd_model.fit(trainset)\n",
    "predictions_svd = svd_model.test(testset)\n",
    "rmse_svd = accuracy.rmse(predictions_svd)\n",
    "mae_svd  = accuracy.mae(predictions_svd)"
   ]
  },
  {
   "cell_type": "code",
   "execution_count": 13,
   "id": "29b95c41",
   "metadata": {},
   "outputs": [
    {
     "name": "stdout",
     "output_type": "stream",
     "text": [
      "RMSE: 0.9488\n",
      "MAE:  0.7487\n"
     ]
    }
   ],
   "source": [
    "# --- NMF ---\n",
    "nmf_model = NMF()\n",
    "nmf_model.fit(trainset)\n",
    "predictions_nmf = nmf_model.test(testset)\n",
    "rmse_nmf = accuracy.rmse(predictions_nmf)\n",
    "mae_nmf  = accuracy.mae(predictions_nmf)"
   ]
  },
  {
   "cell_type": "markdown",
   "id": "437bcb9d",
   "metadata": {},
   "source": [
    " # Precision@K Function"
   ]
  },
  {
   "cell_type": "code",
   "execution_count": 14,
   "id": "1f457b32",
   "metadata": {},
   "outputs": [
    {
     "name": "stdout",
     "output_type": "stream",
     "text": [
      "\n",
      "SVD Precision@10: 0.6334, Recall@10: 0.2910\n"
     ]
    }
   ],
   "source": [
    "def precision_recall_at_k(predictions, k=10, threshold=4):\n",
    "    \"\"\"Compute Precision@K and Recall@K for each user\"\"\"\n",
    "    user_est_true = defaultdict(list)\n",
    "    for uid, iid, true_r, est, _ in predictions:\n",
    "        user_est_true[uid].append((est, true_r))\n",
    "\n",
    "    precisions = []\n",
    "    recalls = []\n",
    "\n",
    "    for uid, user_ratings in user_est_true.items():\n",
    "        user_ratings.sort(key=lambda x: x[0], reverse=True)\n",
    "        top_k = user_ratings[:k]\n",
    "\n",
    "        n_rel = sum((true_r >= threshold) for (_, true_r) in user_ratings)\n",
    "        n_rec_k = sum((est >= threshold) for (est, _) in top_k)\n",
    "        n_rel_and_rec_k = sum(((true_r >= threshold) and (est >= threshold)) for (est, true_r) in top_k)\n",
    "\n",
    "        if n_rel != 0:\n",
    "            precisions.append(n_rel_and_rec_k / n_rec_k if n_rec_k != 0 else 0)\n",
    "            recalls.append(n_rel_and_rec_k / n_rel)\n",
    "\n",
    "    return np.mean(precisions), np.mean(recalls)\n",
    "\n",
    "# Precision@10 for SVD\n",
    "prec_svd, rec_svd = precision_recall_at_k(predictions_svd, k=10, threshold=4)\n",
    "print(f\"\\nSVD Precision@10: {prec_svd:.4f}, Recall@10: {rec_svd:.4f}\")\n",
    "\n"
   ]
  },
  {
   "cell_type": "code",
   "execution_count": 15,
   "id": "648c65d7",
   "metadata": {},
   "outputs": [
    {
     "name": "stdout",
     "output_type": "stream",
     "text": [
      "NMF Precision@10: 0.6114, Recall@10: 0.2847\n"
     ]
    }
   ],
   "source": [
    "# Precision@10 for NMF\n",
    "prec_nmf, rec_nmf = precision_recall_at_k(predictions_nmf, k=10, threshold=4)\n",
    "print(f\"NMF Precision@10: {prec_nmf:.4f}, Recall@10: {rec_nmf:.4f}\")"
   ]
  },
  {
   "cell_type": "markdown",
   "id": "eae5c5d3",
   "metadata": {},
   "source": [
    "## Visualizations"
   ]
  },
  {
   "cell_type": "code",
   "execution_count": 18,
   "id": "b4b1fdb4",
   "metadata": {},
   "outputs": [],
   "source": [
    "sns.set(style=\"whitegrid\")\n",
    "\n",
    "models = ['Random', 'Popularity', 'User-KNN', 'Item-KNN', 'SVD', 'NMF']\n",
    "rmse_values = [rmse_random, rmse_pop, rmse_user, rmse_item, rmse_svd, rmse_nmf]\n",
    "mae_values  = [mae_random, mae_pop, mae_user, mae_item, mae_svd, mae_nmf]\n",
    "precision_10 = [0, 0, 0, 0, prec_svd, prec_nmf]\n",
    "recall_10    = [0, 0, 0, 0, rec_svd, rec_nmf]"
   ]
  },
  {
   "cell_type": "code",
   "execution_count": 21,
   "id": "a01cc130",
   "metadata": {},
   "outputs": [
    {
     "name": "stderr",
     "output_type": "stream",
     "text": [
      "C:\\Users\\Ranajit Hazra\\AppData\\Local\\Temp\\ipykernel_16032\\1420700754.py:3: FutureWarning: \n",
      "\n",
      "Passing `palette` without assigning `hue` is deprecated and will be removed in v0.14.0. Assign the `x` variable to `hue` and set `legend=False` for the same effect.\n",
      "\n",
      "  sns.barplot(x=models, y=rmse_values, palette='viridis')\n"
     ]
    },
    {
     "data": {
      "image/png": "[encoded data removed]",
      "text/plain": [
       "<Figure size 800x500 with 1 Axes>"
      ]
     },
     "metadata": {},
     "output_type": "display_data"
    }
   ],
   "source": [
    "# RMSE\n",
    "plt.figure(figsize=(8,5))\n",
    "sns.barplot(x=models, y=rmse_values, palette='viridis')\n",
    "plt.title(\"Week 2: RMSE Comparison\")\n",
    "plt.ylabel(\"RMSE\")\n",
    "plt.show()"
   ]
  },
  {
   "cell_type": "code",
   "execution_count": 22,
   "id": "79880e3b",
   "metadata": {},
   "outputs": [
    {
     "name": "stderr",
     "output_type": "stream",
     "text": [
      "C:\\Users\\Ranajit Hazra\\AppData\\Local\\Temp\\ipykernel_16032\\2654522117.py:3: FutureWarning: \n",
      "\n",
      "Passing `palette` without assigning `hue` is deprecated and will be removed in v0.14.0. Assign the `x` variable to `hue` and set `legend=False` for the same effect.\n",
      "\n",
      "  sns.barplot(x=models, y=mae_values, palette='magma')\n"
     ]
    },
    {
     "data": {
      "image/png": "[encoded data removed]",
      "text/plain": [
       "<Figure size 800x500 with 1 Axes>"
      ]
     },
     "metadata": {},
     "output_type": "display_data"
    }
   ],
   "source": [
    "# MAE\n",
    "plt.figure(figsize=(8,5))\n",
    "sns.barplot(x=models, y=mae_values, palette='magma')\n",
    "plt.title(\"MAE Comparison\")\n",
    "plt.ylabel(\"MAE\")\n",
    "plt.show()"
   ]
  },
  {
   "cell_type": "code",
   "execution_count": 23,
   "id": "d71cd5ae",
   "metadata": {},
   "outputs": [
    {
     "name": "stderr",
     "output_type": "stream",
     "text": [
      "C:\\Users\\Ranajit Hazra\\AppData\\Local\\Temp\\ipykernel_16032\\4143649324.py:3: FutureWarning: \n",
      "\n",
      "Passing `palette` without assigning `hue` is deprecated and will be removed in v0.14.0. Assign the `x` variable to `hue` and set `legend=False` for the same effect.\n",
      "\n",
      "  sns.barplot(x=models, y=precision_10, palette='coolwarm')\n"
     ]
    },
    {
     "data": {
      "image/png": "[encoded data removed]",
      "text/plain": [
       "<Figure size 800x500 with 1 Axes>"
      ]
     },
     "metadata": {},
     "output_type": "display_data"
    }
   ],
   "source": [
    "# Precision@10\n",
    "plt.figure(figsize=(8,5))\n",
    "sns.barplot(x=models, y=precision_10, palette='coolwarm')\n",
    "plt.title(\"Week 2: Precision@10 Comparison\")\n",
    "plt.ylabel(\"Precision@10\")\n",
    "plt.show()"
   ]
  },
  {
   "cell_type": "code",
   "execution_count": 24,
   "id": "f1037c9d",
   "metadata": {},
   "outputs": [
    {
     "name": "stderr",
     "output_type": "stream",
     "text": [
      "C:\\Users\\Ranajit Hazra\\AppData\\Local\\Temp\\ipykernel_16032\\340862355.py:3: FutureWarning: \n",
      "\n",
      "Passing `palette` without assigning `hue` is deprecated and will be removed in v0.14.0. Assign the `x` variable to `hue` and set `legend=False` for the same effect.\n",
      "\n",
      "  sns.barplot(x=models, y=recall_10, palette='cubehelix')\n"
     ]
    },
    {
     "data": {
      "image/png": "[encoded data removed]",
      "text/plain": [
       "<Figure size 800x500 with 1 Axes>"
      ]
     },
     "metadata": {},
     "output_type": "display_data"
    }
   ],
   "source": [
    "# Recall@10\n",
    "plt.figure(figsize=(8,5))\n",
    "sns.barplot(x=models, y=recall_10, palette='cubehelix')\n",
    "plt.title(\"Recall@10 Comparison\")\n",
    "plt.ylabel(\"Recall@10\")\n",
    "plt.show()"
   ]
  }
 ],
 "metadata": {
  "kernelspec": {
   "display_name": "Python 3",
   "language": "python",
   "name": "python3"
  },
  "language_info": {
   "codemirror_mode": {
    "name": "ipython",
    "version": 3
   },
   "file_extension": ".py",
   "mimetype": "text/x-python",
   "name": "python",
   "nbconvert_exporter": "python",
   "pygments_lexer": "ipython3",
   "version": "3.11.2"
  }
 },
 "nbformat": 4,
 "nbformat_minor": 5
}
